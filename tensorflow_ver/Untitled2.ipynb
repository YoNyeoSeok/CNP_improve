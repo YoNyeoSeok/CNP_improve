{
 "cells": [
  {
   "cell_type": "code",
   "execution_count": 68,
   "metadata": {},
   "outputs": [],
   "source": [
    "import torch\n",
    "import numpy as np\n",
    "y = torch.randn(2,)\n",
    "mu = torch.randn(2,)\n",
    "cov = torch.randn(2,2)**2\n",
    "\n",
    "ys = torch.randn(10, 2)\n",
    "mus = torch.randn(10, 2)\n",
    "covs_ = torch.randn(10, 2)**2\n",
    "covs = [torch.diag(a) for a in covs_]"
   ]
  },
  {
   "cell_type": "code",
   "execution_count": 72,
   "metadata": {},
   "outputs": [
    {
     "data": {
      "text/plain": [
       "tensor([[ 0.9105, -0.3714, -0.1427, -1.4191],\n",
       "        [-0.9694, -0.5249,  2.1122,  1.4357]])"
      ]
     },
     "execution_count": 72,
     "metadata": {},
     "output_type": "execute_result"
    }
   ],
   "source": [
    "log_probs = -0.5*torch.log(2*np.pi*covs_) - 0.5*(mus-ys)\n",
    "log_probs\n",
    "torch.randn(2, 4)[:2]"
   ]
  },
  {
   "cell_type": "code",
   "execution_count": 65,
   "metadata": {},
   "outputs": [
    {
     "name": "stdout",
     "output_type": "stream",
     "text": [
      "tensor([1.7873, 1.8602])\n",
      "2\n",
      "torch.Size([1, 2, 2])\n",
      "tensor([[0.6957, 0.0000],\n",
      "        [0.0000, 0.1873]])\n",
      "\n",
      "tensor([[-0.9321,  0.1350],\n",
      "        [-1.2903,  1.4760],\n",
      "        [ 2.4518, -2.1907],\n",
      "        [ 1.2371,  2.7884],\n",
      "        [ 1.1902, -0.9435],\n",
      "        [ 3.9176,  2.2764],\n",
      "        [ 0.5839,  0.4447],\n",
      "        [ 2.4473, -0.9120],\n",
      "        [-1.7844,  0.7896],\n",
      "        [ 0.4926,  0.0324]])\n",
      "2\n",
      "[tensor([[[0.6957, 0.0000],\n",
      "         [0.0000, 0.1873]]]), tensor([[[0.3399, 0.0000],\n",
      "         [0.0000, 0.5509]]]), tensor([[[0.6464, 0.0000],\n",
      "         [0.0000, 1.0711]]]), tensor([[[1.3062, 0.0000],\n",
      "         [0.0000, 0.6505]]]), tensor([[[0.0270, 0.0000],\n",
      "         [0.0000, 1.2698]]]), tensor([[[0.1658, 0.0000],\n",
      "         [0.0000, 0.4640]]]), tensor([[[0.5144, 0.0000],\n",
      "         [0.0000, 0.3563]]]), tensor([[[0.2862, 0.0000],\n",
      "         [0.0000, 1.7609]]]), tensor([[[0.5046, 0.0000],\n",
      "         [0.0000, 0.8852]]]), tensor([[[1.7975, 0.0000],\n",
      "         [0.0000, 1.3952]]])]\n"
     ]
    },
    {
     "ename": "AttributeError",
     "evalue": "'list' object has no attribute 'shape'",
     "output_type": "error",
     "traceback": [
      "\u001b[0;31m---------------------------------------------------------------------------\u001b[0m",
      "\u001b[0;31mAttributeError\u001b[0m                            Traceback (most recent call last)",
      "\u001b[0;32m<ipython-input-65-f368acfde8b3>\u001b[0m in \u001b[0;36m<module>\u001b[0;34m()\u001b[0m\n\u001b[1;32m     15\u001b[0m \u001b[0mprint\u001b[0m\u001b[0;34m(\u001b[0m\u001b[0mCs\u001b[0m\u001b[0;34m)\u001b[0m\u001b[0;34m\u001b[0m\u001b[0m\n\u001b[1;32m     16\u001b[0m \u001b[0mcholeskys\u001b[0m \u001b[0;34m=\u001b[0m \u001b[0mCs\u001b[0m\u001b[0;34m\u001b[0m\u001b[0m\n\u001b[0;32m---> 17\u001b[0;31m \u001b[0mprint\u001b[0m\u001b[0;34m(\u001b[0m\u001b[0mcholeskys\u001b[0m\u001b[0;34m.\u001b[0m\u001b[0mshape\u001b[0m\u001b[0;34m)\u001b[0m\u001b[0;34m\u001b[0m\u001b[0m\n\u001b[0m",
      "\u001b[0;31mAttributeError\u001b[0m: 'list' object has no attribute 'shape'"
     ]
    }
   ],
   "source": [
    "diff = y-mu\n",
    "print(diff)\n",
    "n = cov.size(-1)\n",
    "print(n)\n",
    "cholesky = torch.stack([C.potrf(upper=False) for C in cov.reshape(-1, n, n)])\n",
    "print(cholesky.shape)\n",
    "scale_tril = cholesky.view(cov.shape)\n",
    "print(scale_tril)\n",
    "print('')\n",
    "diffs = ys-mus\n",
    "print(diffs)\n",
    "n = covs[0].size(-1)\n",
    "print(n)\n",
    "Cs = [torch.stack([C.potrf(upper=False) for C in cov.reshape(-1, n, n)]) for cov in covs]\n",
    "print(Cs)\n",
    "choleskys = Cs\n",
    "print(choleskys.shape)\n",
    "\n"
   ]
  },
  {
   "cell_type": "code",
   "execution_count": null,
   "metadata": {},
   "outputs": [],
   "source": [
    "        diffs = T[:, self.io_dims[0]:] - self.mu\n",
    "\n",
    "        n = self.sig[0].size(-1)\n",
    "        cholesky = torch.stack([C.potrf(upper=False) for C in bmat.reshape((-1, n, n))])\n",
    "        scale_tril = cholesky.view(bmat.shape)\n",
    "        scale_tril = _batch_portf_lower(covariance_matrix)\n",
    "\n",
    "        flat_L = L.unsqueeze(0).reshape((-1,) + L.shape[-2:])\n",
    "        L_inv = torch.stack([torch.inverse(Li.t()) for Li in flat_L]).view(L.shape)\n",
    "        M = (x.unsqueeze(-1) * L_inv).sum(-2).pow(2.0).sum(-1)\n",
    "        M = _batch_mahanobis(self.scale_tril, diff)\n",
    "\n",
    "        log_det = _batch_diag(self.scale_tril).abs().log().sum(-1)\n",
    "        log_probs =  -0.5 * (M + self.loc.size(-1) * math.log(2 * math.pi)) - log_det"
   ]
  }
 ],
 "metadata": {
  "kernelspec": {
   "display_name": "py36",
   "language": "python",
   "name": "py36"
  },
  "language_info": {
   "codemirror_mode": {
    "name": "ipython",
    "version": 3
   },
   "file_extension": ".py",
   "mimetype": "text/x-python",
   "name": "python",
   "nbconvert_exporter": "python",
   "pygments_lexer": "ipython3",
   "version": "3.6.6"
  }
 },
 "nbformat": 4,
 "nbformat_minor": 2
}
