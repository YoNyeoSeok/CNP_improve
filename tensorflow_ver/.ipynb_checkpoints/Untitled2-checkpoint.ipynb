{
 "cells": [
  {
   "cell_type": "code",
   "execution_count": 7,
   "metadata": {},
   "outputs": [],
   "source": [
    "import torch\n",
    "io_dims = [2,1]\n",
    "T = torch.randn(2, 4)\n",
    "mu = torch.randn(2, 2)\n",
    "sig = torch.randn(2, 2)"
   ]
  },
  {
   "cell_type": "code",
   "execution_count": 9,
   "metadata": {},
   "outputs": [
    {
     "data": {
      "text/plain": [
       "tensor([[-3.0833, -1.0399],\n",
       "        [ 0.8671,  2.8988]])"
      ]
     },
     "execution_count": 9,
     "metadata": {},
     "output_type": "execute_result"
    }
   ],
   "source": [
    "diffs = T[:, io_dims[0]:]-mu\n"
   ]
  },
  {
   "cell_type": "code",
   "execution_count": null,
   "metadata": {},
   "outputs": [],
   "source": [
    "        diffs = T[:, self.io_dims[0]:] - self.mu\n",
    "\n",
    "        n = self.sig[0].size(-1)\n",
    "        cholesky = torch.stack([C.potrf(upper=False) for C in bmat.reshape((-1, n, n))])\n",
    "        scale_tril = cholesky.view(bmat.shape)\n",
    "        scale_tril = _batch_portf_lower(covariance_matrix)\n",
    "\n",
    "        flat_L = L.unsqueeze(0).reshape((-1,) + L.shape[-2:])\n",
    "        L_inv = torch.stack([torch.inverse(Li.t()) for Li in flat_L]).view(L.shape)\n",
    "        M = (x.unsqueeze(-1) * L_inv).sum(-2).pow(2.0).sum(-1)\n",
    "        M = _batch_mahanobis(self.scale_tril, diff)\n",
    "\n",
    "        log_det = _batch_diag(self.scale_tril).abs().log().sum(-1)\n",
    "        log_probs =  -0.5 * (M + self.loc.size(-1) * math.log(2 * math.pi)) - log_det"
   ]
  }
 ],
 "metadata": {
  "kernelspec": {
   "display_name": "py36",
   "language": "python",
   "name": "py36"
  },
  "language_info": {
   "codemirror_mode": {
    "name": "ipython",
    "version": 3
   },
   "file_extension": ".py",
   "mimetype": "text/x-python",
   "name": "python",
   "nbconvert_exporter": "python",
   "pygments_lexer": "ipython3",
   "version": "3.6.6"
  }
 },
 "nbformat": 4,
 "nbformat_minor": 2
}
